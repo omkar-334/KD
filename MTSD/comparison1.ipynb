{
 "cells": [
  {
   "cell_type": "code",
   "execution_count": 1,
   "id": "cc7db756-79c2-4dd6-af9e-41e4df1e97fb",
   "metadata": {
    "scrolled": true
   },
   "outputs": [],
   "source": [
    "import matplotlib.pyplot as plt\n",
    "import pandas as pd\n",
    "import torch\n",
    "import torch.nn as nn\n",
    "import torch.nn.functional as F\n",
    "import torch.optim as optim\n",
    "from torch.utils.data import DataLoader, random_split\n",
    "from torchvision import datasets, models, transforms\n",
    "from tqdm import tqdm\n",
    "\n",
    "\n",
    "def prepare_dataloaders(\n",
    "    path, batch_size=32, num_workers=2, val_split=0.2, test_split=0.1, augment=False\n",
    "):\n",
    "    \"\"\"\n",
    "    Prepares train, validation, and test dataloaders from an ImageFolder dataset.\n",
    "    Supports optional data augmentation for the training set.\n",
    "\n",
    "    Args:\n",
    "        path (str): Root directory path to the dataset.\n",
    "        batch_size (int): Number of samples per batch.\n",
    "        num_workers (int): Number of subprocesses for data loading.\n",
    "        val_split (float): Fraction of data to use for validation.\n",
    "        test_split (float): Fraction of data to use for testing.\n",
    "        augment (bool): If True, apply augmentation to training dataset.\n",
    "\n",
    "    Returns:\n",
    "        tuple: (train_loader, val_loader, test_loader or None)\n",
    "    \"\"\"\n",
    "    # Base transform (resize + normalize)\n",
    "    base_transform = transforms.Compose([\n",
    "        transforms.Resize((128, 128)),\n",
    "        transforms.ToTensor(),\n",
    "        transforms.Normalize(mean=[0.485, 0.456, 0.406], std=[0.229, 0.224, 0.225]),\n",
    "    ])\n",
    "\n",
    "    # Augmented transform for training only\n",
    "    aug_transform = transforms.Compose([\n",
    "        transforms.Resize((128, 128)),\n",
    "        transforms.RandomResizedCrop(128, scale=(0.8, 1.0)),\n",
    "        transforms.RandomHorizontalFlip(),\n",
    "        transforms.RandomRotation(15),\n",
    "        transforms.ColorJitter(brightness=0.2, contrast=0.2, saturation=0.2, hue=0.1),\n",
    "        transforms.ToTensor(),\n",
    "        transforms.Normalize(mean=[0.485, 0.456, 0.406], std=[0.229, 0.224, 0.225]),\n",
    "    ])\n",
    "\n",
    "    # Load full dataset (with base transform first)\n",
    "    full_dataset = datasets.ImageFolder(root=path, transform=base_transform)\n",
    "\n",
    "    total_size = len(full_dataset)\n",
    "    test_size = int(total_size * test_split)\n",
    "    val_size = int(total_size * val_split)\n",
    "    train_size = total_size - val_size - test_size\n",
    "\n",
    "    if test_split > 0:\n",
    "        train_set, val_set, test_set = random_split(\n",
    "            full_dataset,\n",
    "            [train_size, val_size, test_size],\n",
    "            generator=torch.Generator().manual_seed(42),\n",
    "        )\n",
    "        test_loader = DataLoader(\n",
    "            test_set,\n",
    "            batch_size=batch_size,\n",
    "            shuffle=False,\n",
    "            num_workers=num_workers,\n",
    "            drop_last=False,\n",
    "        )\n",
    "    else:\n",
    "        train_set, val_set = random_split(\n",
    "            full_dataset,\n",
    "            [train_size, val_size],\n",
    "            generator=torch.Generator().manual_seed(42),\n",
    "        )\n",
    "        test_loader = None\n",
    "\n",
    "    # Apply augmentation only to training subset if requested\n",
    "    if augment:\n",
    "        train_set.dataset.transform = aug_transform\n",
    "\n",
    "    train_loader = DataLoader(\n",
    "        train_set,\n",
    "        batch_size=batch_size,\n",
    "        shuffle=True,\n",
    "        num_workers=num_workers,\n",
    "        drop_last=True,\n",
    "    )\n",
    "    val_loader = DataLoader(\n",
    "        val_set,\n",
    "        batch_size=batch_size,\n",
    "        shuffle=False,\n",
    "        num_workers=num_workers,\n",
    "        drop_last=False,\n",
    "    )\n",
    "\n",
    "    return train_loader, val_loader, test_loader\n",
    "\n",
    "\n",
    "# -------------------------------\n",
    "# Simple MTSD model\n",
    "# -------------------------------\n",
    "\n",
    "\n",
    "# ========== ECA and Backbone ==========\n",
    "class ECALayer(nn.Module):\n",
    "    def __init__(self, channels, k_size=3):\n",
    "        super().__init__()\n",
    "        self.avg_pool = nn.AdaptiveAvgPool2d(1)\n",
    "        self.conv = nn.Conv1d(\n",
    "            1, 1, kernel_size=k_size, padding=(k_size - 1) // 2, bias=False\n",
    "        )\n",
    "        self.sigmoid = nn.Sigmoid()\n",
    "\n",
    "    def forward(self, x):\n",
    "        y = self.avg_pool(x).squeeze(-1).transpose(1, 2)\n",
    "        y = self.conv(y).transpose(1, 2).unsqueeze(-1)\n",
    "        y = self.sigmoid(y)\n",
    "        return x * y.expand_as(x)\n",
    "\n",
    "\n",
    "class BottleneckBlock(nn.Module):\n",
    "    def __init__(self, in_channels, out_channels):\n",
    "        super().__init__()\n",
    "        self.block = nn.Sequential(\n",
    "            nn.Conv2d(in_channels, out_channels, kernel_size=3, padding=1),\n",
    "            nn.BatchNorm2d(out_channels),\n",
    "            nn.ReLU(inplace=True),\n",
    "        )\n",
    "\n",
    "    def forward(self, x):\n",
    "        return self.block(x)\n",
    "\n",
    "\n",
    "class Branch(nn.Module):\n",
    "    def __init__(self, in_channels, num_classes):\n",
    "        super().__init__()\n",
    "        self.pool = nn.AdaptiveAvgPool2d(1)\n",
    "        self.fc = nn.Linear(in_channels, num_classes)\n",
    "\n",
    "    def forward(self, x):\n",
    "        x = self.pool(x).view(x.size(0), -1)\n",
    "        return self.fc(x)\n",
    "\n",
    "\n",
    "class MultiBranchNet(nn.Module):\n",
    "    def __init__(self, input_channels=3, num_classes=5):\n",
    "        super().__init__()\n",
    "        self.blocks = nn.ModuleList([\n",
    "            BottleneckBlock(input_channels, 64),\n",
    "            BottleneckBlock(64, 128),\n",
    "            BottleneckBlock(128, 256),\n",
    "            BottleneckBlock(256, 512),\n",
    "        ])\n",
    "        self.att = nn.ModuleList([\n",
    "            ECALayer(64),\n",
    "            ECALayer(128),\n",
    "            ECALayer(256),\n",
    "            ECALayer(512),\n",
    "        ])\n",
    "        self.classifiers = nn.ModuleList([\n",
    "            Branch(64, num_classes),\n",
    "            Branch(128, num_classes),\n",
    "            Branch(256, num_classes),\n",
    "            Branch(512, num_classes),\n",
    "        ])\n",
    "\n",
    "    def forward(self, x):\n",
    "        features, logits = [], []\n",
    "        for i in range(4):\n",
    "            x = self.blocks[i](x)\n",
    "            x = self.att[i](x)\n",
    "            features.append(x)\n",
    "            logits.append(self.classifiers[i](x))\n",
    "        return logits, features\n",
    "\n",
    "\n",
    "def compute_asm(feature_map, target_size=None, max_hw=400):\n",
    "    if target_size is not None:\n",
    "        feature_map = F.interpolate(\n",
    "            feature_map, size=target_size, mode=\"bilinear\", align_corners=False\n",
    "        )\n",
    "    B, C, H, W = feature_map.size()\n",
    "    if max_hw < H * W:\n",
    "        feature_map = F.adaptive_avg_pool2d(\n",
    "            feature_map, (int(max_hw**0.5), int(max_hw**0.5))\n",
    "        )\n",
    "    F_T = feature_map.view(B, C, -1)\n",
    "    sim = torch.bmm(F_T.transpose(1, 2), F_T)\n",
    "    norm = torch.norm(sim, dim=(1, 2), keepdim=True) + 1e-6\n",
    "    return sim / norm\n",
    "\n",
    "\n",
    "def compute_total_loss(preds, feats, labels, alpha=3, beta=0.3, gamma=3000, delta=None):\n",
    "    ce = nn.CrossEntropyLoss()\n",
    "    l1 = ce(preds[3], labels)\n",
    "    l2 = sum(ce(preds[i], labels) for i in range(3))\n",
    "    kl_loss, asm_loss = 0, 0\n",
    "    target_size = feats[3].shape[2:]\n",
    "    for i in range(3):\n",
    "        pi = F.log_softmax(preds[i], dim=1)\n",
    "        for j in range(i + 1, 4):\n",
    "            pj = F.softmax(preds[j].detach(), dim=1)\n",
    "            kl = F.kl_div(pi, pj, reduction=\"batchmean\")\n",
    "            asm_s = compute_asm(feats[i], target_size)\n",
    "            asm_t = compute_asm(feats[j].detach(), target_size)\n",
    "            if asm_s.shape != asm_t.shape:\n",
    "                min_shape = list(map(min, asm_s.shape, asm_t.shape))\n",
    "                asm_s = asm_s[:, : min_shape[1], : min_shape[2]]\n",
    "                asm_t = asm_t[:, : min_shape[1], : min_shape[2]]\n",
    "            asm = F.mse_loss(asm_s, asm_t)\n",
    "            w = 1.0\n",
    "            kl_loss += w * kl\n",
    "            asm_loss += w * asm\n",
    "    return alpha * l1 + (1 - beta) * l2 + beta * kl_loss + gamma * asm_loss\n",
    "\n",
    "\n",
    "def train(\n",
    "    model,\n",
    "    train_loader,\n",
    "    val_loader,\n",
    "    device,\n",
    "    qat=False,\n",
    "    num_epochs=50,\n",
    "    method_name=\"MTSD\",\n",
    "):\n",
    "    model.to(device)\n",
    "\n",
    "    # ---- QAT setup ----\n",
    "    if qat:\n",
    "        # Define QAT configuration\n",
    "        model.qconfig = torch.quantization.get_default_qat_qconfig(\"fbgemm\")\n",
    "        # Prepare model for QAT\n",
    "        torch.quantization.prepare_qat(model, inplace=True)\n",
    "        print(\"[QAT] Model prepared for Quantization-Aware Training\")\n",
    "\n",
    "    optimizer = optim.SGD(model.parameters(), lr=0.01, momentum=0.9)\n",
    "    scheduler = optim.lr_scheduler.StepLR(optimizer, step_size=10, gamma=0.1)\n",
    "\n",
    "    delta = torch.tensor(0.5, requires_grad=True, device=device)\n",
    "    delta_opt = optim.Adam([delta], lr=1e-3)\n",
    "\n",
    "    for epoch in tqdm(range(1, num_epochs + 1)):\n",
    "        model.train()\n",
    "        total_loss = 0\n",
    "        for x, y in train_loader:\n",
    "            x, y = x.to(device), y.to(device)\n",
    "            optimizer.zero_grad()\n",
    "            preds, feats = model(x)\n",
    "            loss = compute_total_loss(preds, feats, y, delta=delta)\n",
    "            loss.backward()\n",
    "            optimizer.step()\n",
    "            delta_opt.step()\n",
    "            total_loss += loss.item()\n",
    "        scheduler.step()\n",
    "\n",
    "        val_loss = total_loss / len(train_loader)\n",
    "\n",
    "        # Validation\n",
    "        model.eval()\n",
    "        correct = total = 0\n",
    "        with torch.no_grad():\n",
    "            for x, y in val_loader:\n",
    "                x, y = x.to(device), y.to(device)\n",
    "                preds, _ = model(x)\n",
    "                pred = preds[-1].argmax(1)\n",
    "                correct += (pred == y).sum().item()\n",
    "                total += y.size(0)\n",
    "        acc = correct / total\n",
    "        print(\n",
    "            f\"[MTSD{'-QAT' if qat else ''}] Epoch {epoch}: Loss = {val_loss:.4f}, Acc = {acc:.4f}\"\n",
    "        )\n",
    "\n",
    "    # ---- Convert to quantized model after QAT ----\n",
    "    if qat:\n",
    "        model.cpu()\n",
    "        torch.quantization.convert(model, inplace=True)\n",
    "        print(\"[QAT] Model converted to quantized version\")\n",
    "    torch.save(model.state_dict(), f\"models/mtsd_{method_name}.pth\")\n",
    "    return model\n",
    "\n",
    "\n",
    "# -------------------------------\n",
    "# Losses\n",
    "# -------------------------------\n",
    "class DistillationLoss(nn.Module):\n",
    "    def __init__(self, temperature=4.0, alpha=0.5):\n",
    "        super().__init__()\n",
    "        self.temperature = temperature\n",
    "        self.alpha = alpha\n",
    "        self.ce = nn.CrossEntropyLoss()\n",
    "\n",
    "    def forward(self, student_logits, teacher_logits, targets):\n",
    "        hard_loss = self.ce(student_logits, targets)\n",
    "        T = self.temperature\n",
    "        soft_loss = F.kl_div(\n",
    "            F.log_softmax(student_logits / T, dim=1),\n",
    "            F.softmax(teacher_logits / T, dim=1),\n",
    "            reduction=\"batchmean\",\n",
    "        ) * (T * T)\n",
    "        return self.alpha * hard_loss + (1 - self.alpha) * soft_loss\n",
    "\n",
    "\n",
    "# -------------------------------\n",
    "# Training helpers\n",
    "# -------------------------------\n",
    "\n",
    "\n",
    "def get_resnet_teacher(num_classes=5, pretrained=True):\n",
    "    model = models.resnet18(pretrained=pretrained)\n",
    "    in_features = model.fc.in_features\n",
    "    model.fc = nn.Linear(in_features, num_classes)\n",
    "    return model\n",
    "\n",
    "\n",
    "def train_teacher(model, train_loader, val_loader, device, epochs=10):\n",
    "    model.to(device)\n",
    "    opt = optim.Adam(model.parameters(), lr=1e-3)\n",
    "    ce = nn.CrossEntropyLoss()\n",
    "    for epoch in tqdm(range(epochs)):\n",
    "        model.train()\n",
    "        for x, y in train_loader:\n",
    "            x, y = x.to(device), y.to(device)\n",
    "            opt.zero_grad()\n",
    "            loss = ce(model(x), y)\n",
    "            loss.backward()\n",
    "            opt.step()\n",
    "    torch.save(model.state_dict(), \"models/teacher.pth\")\n",
    "    return model\n",
    "\n",
    "\n",
    "def evaluate(model, loader, device):\n",
    "    \"\"\"\n",
    "    Evaluate a MultiBranchNet or similar model.\n",
    "    \n",
    "    Args:\n",
    "        model: PyTorch model\n",
    "        loader: DataLoader for evaluation\n",
    "        device: \"cuda\" or \"cpu\"\n",
    "\n",
    "    Returns:\n",
    "        Accuracy (float)\n",
    "    \"\"\"\n",
    "    model.eval()\n",
    "    correct, total = 0, 0\n",
    "    with torch.no_grad():\n",
    "        for x, y in loader:\n",
    "            x, y = x.to(device), y.to(device)\n",
    "            logits, _ = model(x)          # unpack logits and features\n",
    "            preds = logits[-1].argmax(1)  # use last branch for final prediction\n",
    "            correct += (preds == y).sum().item()\n",
    "            total += y.size(0)\n",
    "    return correct / total\n",
    "\n",
    "\n",
    "\n",
    "# -------------------------------\n",
    "# KD Methods\n",
    "# -------------------------------\n",
    "from tqdm import tqdm\n",
    "import torch\n",
    "import torch.nn as nn\n",
    "import torch.optim as optim\n",
    "\n",
    "def normal_kd(student, teacher, train_loader, val_loader, device, epochs=10):\n",
    "    \"\"\"\n",
    "    Train a student model using Knowledge Distillation from a teacher.\n",
    "\n",
    "    Args:\n",
    "        student: student model (MultiBranchNet)\n",
    "        teacher: teacher model\n",
    "        train_loader: DataLoader for training\n",
    "        val_loader: DataLoader for validation\n",
    "        device: \"cuda\" or \"cpu\"\n",
    "        epochs: number of epochs\n",
    "\n",
    "    Returns:\n",
    "        Trained student model\n",
    "    \"\"\"\n",
    "\n",
    "    student.to(device)\n",
    "    teacher.to(device).eval()\n",
    "    kd_loss = DistillationLoss()\n",
    "    optimizer = optim.Adam(student.parameters(), lr=1e-3)\n",
    "\n",
    "    for epoch in tqdm(range(1, epochs + 1)):\n",
    "        student.train()\n",
    "        total_loss = 0\n",
    "\n",
    "        for x, y in train_loader:\n",
    "            x, y = x.to(device), y.to(device)\n",
    "\n",
    "            # Teacher logits\n",
    "            with torch.no_grad():\n",
    "                tlogits = teacher(x)\n",
    "\n",
    "            # Student logits (last branch only)\n",
    "            slogits, _ = student(x)\n",
    "            loss = kd_loss(slogits[-1], tlogits, y)\n",
    "\n",
    "            optimizer.zero_grad()\n",
    "            loss.backward()\n",
    "            optimizer.step()\n",
    "\n",
    "            total_loss += loss.item()\n",
    "\n",
    "        avg_loss = total_loss / len(train_loader)\n",
    "\n",
    "        # Validation\n",
    "        student.eval()\n",
    "        correct = total = 0\n",
    "        with torch.no_grad():\n",
    "            for x, y in val_loader:\n",
    "                x, y = x.to(device), y.to(device)\n",
    "                logits, _ = student(x)\n",
    "                preds = logits[-1].argmax(1)\n",
    "                correct += (preds == y).sum().item()\n",
    "                total += y.size(0)\n",
    "        acc = correct / total\n",
    "        print(f\"[Normal KD] Epoch {epoch}: Loss = {avg_loss:.4f}, Acc = {acc:.4f}\")\n",
    "\n",
    "    # Save model\n",
    "    torch.save(student.state_dict(), \"models/student.pth\")\n",
    "    return student\n"
   ]
  },
  {
   "cell_type": "code",
   "execution_count": 2,
   "id": "0d5e52da-e521-476f-85bf-2a655dcbd6cf",
   "metadata": {},
   "outputs": [],
   "source": [
    "device = \"cuda\" if torch.cuda.is_available() else \"cpu\"\n",
    "\n",
    "results = []\n",
    "\n",
    "# Standard and augmented loaders\n",
    "train_loader1, val_loader1, test_loader1 = prepare_dataloaders(\n",
    "    \"data\", batch_size=32, augment=False, num_workers=4\n",
    ")\n",
    "train_loader_aug1, val_loader1, test_loader1 = prepare_dataloaders(\n",
    "    \"data\", batch_size=32, augment=True, num_workers=4\n",
    ")\n",
    "\n",
    "NUM_CLASSES_1 = len(train_loader1.dataset.dataset.classes)"
   ]
  },
  {
   "cell_type": "code",
   "execution_count": 3,
   "id": "bc291c33-0586-4950-a908-54c3fa485a6a",
   "metadata": {},
   "outputs": [],
   "source": [
    "train_loader, val_loader, test_loader = train_loader1, val_loader1, test_loader1\n",
    "train_loader_aug, val_loader, test_loader = train_loader_aug1, val_loader1, test_loader1\n",
    "NUM_CLASSES = NUM_CLASSES_1"
   ]
  },
  {
   "cell_type": "code",
   "execution_count": 4,
   "id": "29c64740-0cd5-4db1-9d8a-d5df4a683614",
   "metadata": {},
   "outputs": [
    {
     "name": "stderr",
     "output_type": "stream",
     "text": [
      "/workspace/mykernel/lib/python3.12/site-packages/torchvision/models/_utils.py:208: UserWarning: The parameter 'pretrained' is deprecated since 0.13 and may be removed in the future, please use 'weights' instead.\n",
      "  warnings.warn(\n",
      "/workspace/mykernel/lib/python3.12/site-packages/torchvision/models/_utils.py:223: UserWarning: Arguments other than a weight enum or `None` for 'weights' are deprecated since 0.13 and may be removed in the future. The current behavior is equivalent to passing `weights=ResNet18_Weights.IMAGENET1K_V1`. You can also use `weights=ResNet18_Weights.DEFAULT` to get the most up-to-date weights.\n",
      "  warnings.warn(msg)\n",
      "100%|██████████| 20/20 [01:25<00:00,  4.29s/it]\n"
     ]
    }
   ],
   "source": [
    "import os\n",
    "os.environ['TORCH_USE_CUDA_DSA'] = '1'\n",
    "os.environ['CUDA_LAUNCH_BLOCKING'] = '1'\n",
    "\n",
    "teacher = train_teacher(\n",
    "    get_resnet_teacher(num_classes=NUM_CLASSES),\n",
    "    train_loader,\n",
    "    val_loader,\n",
    "    device,\n",
    "    epochs=20\n",
    ")"
   ]
  },
  {
   "cell_type": "code",
   "execution_count": 5,
   "id": "a7502809-64f6-4405-9224-2c8d0ec17235",
   "metadata": {},
   "outputs": [
    {
     "name": "stderr",
     "output_type": "stream",
     "text": [
      "  5%|▌         | 1/20 [00:15<05:03, 16.00s/it]"
     ]
    },
    {
     "name": "stdout",
     "output_type": "stream",
     "text": [
      "[Normal KD] Epoch 1: Loss = 5.8749, Acc = 0.4325\n"
     ]
    },
    {
     "name": "stderr",
     "output_type": "stream",
     "text": [
      " 10%|█         | 2/20 [00:30<04:33, 15.17s/it]"
     ]
    },
    {
     "name": "stdout",
     "output_type": "stream",
     "text": [
      "[Normal KD] Epoch 2: Loss = 4.7545, Acc = 0.4663\n"
     ]
    },
    {
     "name": "stderr",
     "output_type": "stream",
     "text": [
      " 15%|█▌        | 3/20 [00:45<04:13, 14.91s/it]"
     ]
    },
    {
     "name": "stdout",
     "output_type": "stream",
     "text": [
      "[Normal KD] Epoch 3: Loss = 4.2228, Acc = 0.4881\n"
     ]
    },
    {
     "name": "stderr",
     "output_type": "stream",
     "text": [
      " 20%|██        | 4/20 [00:59<03:56, 14.79s/it]"
     ]
    },
    {
     "name": "stdout",
     "output_type": "stream",
     "text": [
      "[Normal KD] Epoch 4: Loss = 3.9286, Acc = 0.5000\n"
     ]
    },
    {
     "name": "stderr",
     "output_type": "stream",
     "text": [
      " 25%|██▌       | 5/20 [01:14<03:41, 14.76s/it]"
     ]
    },
    {
     "name": "stdout",
     "output_type": "stream",
     "text": [
      "[Normal KD] Epoch 5: Loss = 3.6666, Acc = 0.4802\n"
     ]
    },
    {
     "name": "stderr",
     "output_type": "stream",
     "text": [
      " 30%|███       | 6/20 [01:29<03:26, 14.73s/it]"
     ]
    },
    {
     "name": "stdout",
     "output_type": "stream",
     "text": [
      "[Normal KD] Epoch 6: Loss = 3.5559, Acc = 0.4643\n"
     ]
    },
    {
     "name": "stderr",
     "output_type": "stream",
     "text": [
      " 35%|███▌      | 7/20 [01:43<03:10, 14.69s/it]"
     ]
    },
    {
     "name": "stdout",
     "output_type": "stream",
     "text": [
      "[Normal KD] Epoch 7: Loss = 3.2369, Acc = 0.5635\n"
     ]
    },
    {
     "name": "stderr",
     "output_type": "stream",
     "text": [
      " 40%|████      | 8/20 [01:58<02:56, 14.67s/it]"
     ]
    },
    {
     "name": "stdout",
     "output_type": "stream",
     "text": [
      "[Normal KD] Epoch 8: Loss = 3.1382, Acc = 0.4504\n"
     ]
    },
    {
     "name": "stderr",
     "output_type": "stream",
     "text": [
      " 45%|████▌     | 9/20 [02:13<02:41, 14.67s/it]"
     ]
    },
    {
     "name": "stdout",
     "output_type": "stream",
     "text": [
      "[Normal KD] Epoch 9: Loss = 2.9549, Acc = 0.5556\n"
     ]
    },
    {
     "name": "stderr",
     "output_type": "stream",
     "text": [
      " 50%|█████     | 10/20 [02:27<02:26, 14.66s/it]"
     ]
    },
    {
     "name": "stdout",
     "output_type": "stream",
     "text": [
      "[Normal KD] Epoch 10: Loss = 2.8394, Acc = 0.5139\n"
     ]
    },
    {
     "name": "stderr",
     "output_type": "stream",
     "text": [
      " 55%|█████▌    | 11/20 [02:42<02:11, 14.66s/it]"
     ]
    },
    {
     "name": "stdout",
     "output_type": "stream",
     "text": [
      "[Normal KD] Epoch 11: Loss = 2.7355, Acc = 0.5357\n"
     ]
    },
    {
     "name": "stderr",
     "output_type": "stream",
     "text": [
      " 60%|██████    | 12/20 [02:56<01:57, 14.64s/it]"
     ]
    },
    {
     "name": "stdout",
     "output_type": "stream",
     "text": [
      "[Normal KD] Epoch 12: Loss = 2.5443, Acc = 0.4762\n"
     ]
    },
    {
     "name": "stderr",
     "output_type": "stream",
     "text": [
      " 65%|██████▌   | 13/20 [03:11<01:42, 14.63s/it]"
     ]
    },
    {
     "name": "stdout",
     "output_type": "stream",
     "text": [
      "[Normal KD] Epoch 13: Loss = 2.4171, Acc = 0.5377\n"
     ]
    },
    {
     "name": "stderr",
     "output_type": "stream",
     "text": [
      " 70%|███████   | 14/20 [03:26<01:27, 14.63s/it]"
     ]
    },
    {
     "name": "stdout",
     "output_type": "stream",
     "text": [
      "[Normal KD] Epoch 14: Loss = 2.3898, Acc = 0.5337\n"
     ]
    },
    {
     "name": "stderr",
     "output_type": "stream",
     "text": [
      " 75%|███████▌  | 15/20 [03:40<01:13, 14.63s/it]"
     ]
    },
    {
     "name": "stdout",
     "output_type": "stream",
     "text": [
      "[Normal KD] Epoch 15: Loss = 2.2772, Acc = 0.5516\n"
     ]
    },
    {
     "name": "stderr",
     "output_type": "stream",
     "text": [
      " 80%|████████  | 16/20 [03:55<00:58, 14.63s/it]"
     ]
    },
    {
     "name": "stdout",
     "output_type": "stream",
     "text": [
      "[Normal KD] Epoch 16: Loss = 2.0758, Acc = 0.5556\n"
     ]
    },
    {
     "name": "stderr",
     "output_type": "stream",
     "text": [
      " 85%|████████▌ | 17/20 [04:10<00:43, 14.61s/it]"
     ]
    },
    {
     "name": "stdout",
     "output_type": "stream",
     "text": [
      "[Normal KD] Epoch 17: Loss = 1.9791, Acc = 0.5952\n"
     ]
    },
    {
     "name": "stderr",
     "output_type": "stream",
     "text": [
      " 90%|█████████ | 18/20 [04:24<00:29, 14.62s/it]"
     ]
    },
    {
     "name": "stdout",
     "output_type": "stream",
     "text": [
      "[Normal KD] Epoch 18: Loss = 2.0139, Acc = 0.5496\n"
     ]
    },
    {
     "name": "stderr",
     "output_type": "stream",
     "text": [
      " 95%|█████████▌| 19/20 [04:39<00:14, 14.63s/it]"
     ]
    },
    {
     "name": "stdout",
     "output_type": "stream",
     "text": [
      "[Normal KD] Epoch 19: Loss = 1.9281, Acc = 0.5893\n"
     ]
    },
    {
     "name": "stderr",
     "output_type": "stream",
     "text": [
      "100%|██████████| 20/20 [04:53<00:00, 14.70s/it]"
     ]
    },
    {
     "name": "stdout",
     "output_type": "stream",
     "text": [
      "[Normal KD] Epoch 20: Loss = 1.7766, Acc = 0.5000\n"
     ]
    },
    {
     "name": "stderr",
     "output_type": "stream",
     "text": [
      "\n"
     ]
    },
    {
     "ename": "TypeError",
     "evalue": "list indices must be integers or slices, not str",
     "output_type": "error",
     "traceback": [
      "\u001b[31m---------------------------------------------------------------------------\u001b[39m",
      "\u001b[31mTypeError\u001b[39m                                 Traceback (most recent call last)",
      "\u001b[36mCell\u001b[39m\u001b[36m \u001b[39m\u001b[32mIn[5]\u001b[39m\u001b[32m, line 15\u001b[39m\n\u001b[32m     13\u001b[39m acc1 = evaluate(s1, val_loader, device)\n\u001b[32m     14\u001b[39m size1 = \u001b[38;5;28msum\u001b[39m(p.numel() \u001b[38;5;28;01mfor\u001b[39;00m p \u001b[38;5;129;01min\u001b[39;00m s1.parameters())\n\u001b[32m---> \u001b[39m\u001b[32m15\u001b[39m \u001b[43mresults\u001b[49m\u001b[43m[\u001b[49m\u001b[33;43m\"\u001b[39;49m\u001b[33;43mNormal KD\u001b[39;49m\u001b[33;43m\"\u001b[39;49m\u001b[43m]\u001b[49m = { \u001b[33m\"\u001b[39m\u001b[33macc\u001b[39m\u001b[33m\"\u001b[39m: acc1, \u001b[33m\"\u001b[39m\u001b[33msize\u001b[39m\u001b[33m\"\u001b[39m:  size1}\n\u001b[32m     16\u001b[39m \u001b[38;5;28mprint\u001b[39m(acc1, size1)\n",
      "\u001b[31mTypeError\u001b[39m: list indices must be integers or slices, not str"
     ]
    }
   ],
   "source": [
    "# ----------------------------\n",
    "# Method 1: Normal KD (unchanged)\n",
    "# ----------------------------\n",
    "s1 = normal_kd(\n",
    "    MultiBranchNet(num_classes=NUM_CLASSES),\n",
    "    teacher,\n",
    "    train_loader,\n",
    "    val_loader,\n",
    "    device,\n",
    "    epochs=20,\n",
    ")\n",
    "\n",
    "acc1 = evaluate(s1, val_loader, device)\n",
    "size1 = sum(p.numel() for p in s1.parameters())\n",
    "results[\"Normal KD\"] = { \"acc\": acc1, \"size\":  size1}\n",
    "print(acc1, size1)"
   ]
  },
  {
   "cell_type": "code",
   "execution_count": 6,
   "id": "f92a03f9-3817-4ce3-9554-1f54d23700e7",
   "metadata": {},
   "outputs": [
    {
     "name": "stdout",
     "output_type": "stream",
     "text": [
      "0.5456349206349206 1557728\n"
     ]
    }
   ],
   "source": [
    "results = {}\n",
    "results[\"Normal KD\"] = { \"acc\": acc1, \"size\":  size1}\n",
    "print(acc1, size1)"
   ]
  },
  {
   "cell_type": "code",
   "execution_count": 7,
   "id": "11b25f98-df99-4569-9257-c22e7de86b3c",
   "metadata": {},
   "outputs": [
    {
     "name": "stderr",
     "output_type": "stream",
     "text": [
      "  5%|▌         | 1/20 [00:14<04:37, 14.63s/it]"
     ]
    },
    {
     "name": "stdout",
     "output_type": "stream",
     "text": [
      "[Normal KD] Epoch 1: Loss = 4.1576, Acc = 0.4563\n"
     ]
    },
    {
     "name": "stderr",
     "output_type": "stream",
     "text": [
      " 10%|█         | 2/20 [00:29<04:23, 14.62s/it]"
     ]
    },
    {
     "name": "stdout",
     "output_type": "stream",
     "text": [
      "[Normal KD] Epoch 2: Loss = 3.5486, Acc = 0.4901\n"
     ]
    },
    {
     "name": "stderr",
     "output_type": "stream",
     "text": [
      " 15%|█▌        | 3/20 [00:43<04:07, 14.57s/it]"
     ]
    },
    {
     "name": "stdout",
     "output_type": "stream",
     "text": [
      "[Normal KD] Epoch 3: Loss = 3.3667, Acc = 0.5238\n"
     ]
    },
    {
     "name": "stderr",
     "output_type": "stream",
     "text": [
      " 20%|██        | 4/20 [00:58<03:53, 14.62s/it]"
     ]
    },
    {
     "name": "stdout",
     "output_type": "stream",
     "text": [
      "[Normal KD] Epoch 4: Loss = 3.2010, Acc = 0.5575\n"
     ]
    },
    {
     "name": "stderr",
     "output_type": "stream",
     "text": [
      " 25%|██▌       | 5/20 [01:13<03:39, 14.63s/it]"
     ]
    },
    {
     "name": "stdout",
     "output_type": "stream",
     "text": [
      "[Normal KD] Epoch 5: Loss = 3.0187, Acc = 0.5258\n"
     ]
    },
    {
     "name": "stderr",
     "output_type": "stream",
     "text": [
      " 30%|███       | 6/20 [01:27<03:24, 14.63s/it]"
     ]
    },
    {
     "name": "stdout",
     "output_type": "stream",
     "text": [
      "[Normal KD] Epoch 6: Loss = 2.9585, Acc = 0.5833\n"
     ]
    },
    {
     "name": "stderr",
     "output_type": "stream",
     "text": [
      " 35%|███▌      | 7/20 [01:42<03:09, 14.61s/it]"
     ]
    },
    {
     "name": "stdout",
     "output_type": "stream",
     "text": [
      "[Normal KD] Epoch 7: Loss = 2.9092, Acc = 0.5456\n"
     ]
    },
    {
     "name": "stderr",
     "output_type": "stream",
     "text": [
      " 40%|████      | 8/20 [01:56<02:55, 14.63s/it]"
     ]
    },
    {
     "name": "stdout",
     "output_type": "stream",
     "text": [
      "[Normal KD] Epoch 8: Loss = 2.8210, Acc = 0.6131\n"
     ]
    },
    {
     "name": "stderr",
     "output_type": "stream",
     "text": [
      " 45%|████▌     | 9/20 [02:11<02:41, 14.67s/it]"
     ]
    },
    {
     "name": "stdout",
     "output_type": "stream",
     "text": [
      "[Normal KD] Epoch 9: Loss = 2.7604, Acc = 0.5595\n"
     ]
    },
    {
     "name": "stderr",
     "output_type": "stream",
     "text": [
      " 50%|█████     | 10/20 [02:26<02:26, 14.68s/it]"
     ]
    },
    {
     "name": "stdout",
     "output_type": "stream",
     "text": [
      "[Normal KD] Epoch 10: Loss = 2.7127, Acc = 0.5437\n"
     ]
    },
    {
     "name": "stderr",
     "output_type": "stream",
     "text": [
      " 55%|█████▌    | 11/20 [02:41<02:12, 14.71s/it]"
     ]
    },
    {
     "name": "stdout",
     "output_type": "stream",
     "text": [
      "[Normal KD] Epoch 11: Loss = 2.6236, Acc = 0.5952\n"
     ]
    },
    {
     "name": "stderr",
     "output_type": "stream",
     "text": [
      " 60%|██████    | 12/20 [02:55<01:57, 14.69s/it]"
     ]
    },
    {
     "name": "stdout",
     "output_type": "stream",
     "text": [
      "[Normal KD] Epoch 12: Loss = 2.5787, Acc = 0.6071\n"
     ]
    },
    {
     "name": "stderr",
     "output_type": "stream",
     "text": [
      " 65%|██████▌   | 13/20 [03:10<01:42, 14.70s/it]"
     ]
    },
    {
     "name": "stdout",
     "output_type": "stream",
     "text": [
      "[Normal KD] Epoch 13: Loss = 2.5268, Acc = 0.5933\n"
     ]
    },
    {
     "name": "stderr",
     "output_type": "stream",
     "text": [
      " 70%|███████   | 14/20 [03:25<01:28, 14.71s/it]"
     ]
    },
    {
     "name": "stdout",
     "output_type": "stream",
     "text": [
      "[Normal KD] Epoch 14: Loss = 2.4927, Acc = 0.5893\n"
     ]
    },
    {
     "name": "stderr",
     "output_type": "stream",
     "text": [
      " 75%|███████▌  | 15/20 [03:39<01:13, 14.68s/it]"
     ]
    },
    {
     "name": "stdout",
     "output_type": "stream",
     "text": [
      "[Normal KD] Epoch 15: Loss = 2.3087, Acc = 0.5853\n"
     ]
    },
    {
     "name": "stderr",
     "output_type": "stream",
     "text": [
      " 80%|████████  | 16/20 [03:54<00:58, 14.69s/it]"
     ]
    },
    {
     "name": "stdout",
     "output_type": "stream",
     "text": [
      "[Normal KD] Epoch 16: Loss = 2.4814, Acc = 0.6488\n"
     ]
    },
    {
     "name": "stderr",
     "output_type": "stream",
     "text": [
      " 85%|████████▌ | 17/20 [04:09<00:44, 14.69s/it]"
     ]
    },
    {
     "name": "stdout",
     "output_type": "stream",
     "text": [
      "[Normal KD] Epoch 17: Loss = 2.3286, Acc = 0.6389\n"
     ]
    },
    {
     "name": "stderr",
     "output_type": "stream",
     "text": [
      " 90%|█████████ | 18/20 [04:23<00:29, 14.68s/it]"
     ]
    },
    {
     "name": "stdout",
     "output_type": "stream",
     "text": [
      "[Normal KD] Epoch 18: Loss = 2.2708, Acc = 0.6230\n"
     ]
    },
    {
     "name": "stderr",
     "output_type": "stream",
     "text": [
      " 95%|█████████▌| 19/20 [04:38<00:14, 14.68s/it]"
     ]
    },
    {
     "name": "stdout",
     "output_type": "stream",
     "text": [
      "[Normal KD] Epoch 19: Loss = 2.2288, Acc = 0.6667\n"
     ]
    },
    {
     "name": "stderr",
     "output_type": "stream",
     "text": [
      "100%|██████████| 20/20 [04:53<00:00, 14.67s/it]"
     ]
    },
    {
     "name": "stdout",
     "output_type": "stream",
     "text": [
      "[Normal KD] Epoch 20: Loss = 2.1541, Acc = 0.6032\n"
     ]
    },
    {
     "name": "stderr",
     "output_type": "stream",
     "text": [
      "\n"
     ]
    },
    {
     "name": "stdout",
     "output_type": "stream",
     "text": [
      "0.6369047619047619 1557728\n"
     ]
    }
   ],
   "source": [
    "# ----------------------------\n",
    "# Method 2: Normal KD (Augmentation)\n",
    "# ----------------------------\n",
    "s2 = normal_kd(\n",
    "    MultiBranchNet(num_classes=NUM_CLASSES),\n",
    "    teacher,\n",
    "    train_loader_aug,\n",
    "    val_loader,\n",
    "    device,\n",
    "    epochs=20,\n",
    ")\n",
    "acc2 = evaluate(s2, val_loader, device)\n",
    "size2 = sum(p.numel() for p in s2.parameters())\n",
    "results[\"Normal KD with AUG\"] = { \"acc\": acc2, \"size\":  size2}\n",
    "print(acc2, size2)"
   ]
  },
  {
   "cell_type": "code",
   "execution_count": 8,
   "id": "c5b1d952-ce84-4721-a30e-288a7385dfbb",
   "metadata": {},
   "outputs": [
    {
     "name": "stderr",
     "output_type": "stream",
     "text": [
      "  5%|▌         | 1/20 [00:17<05:37, 17.77s/it]"
     ]
    },
    {
     "name": "stdout",
     "output_type": "stream",
     "text": [
      "[MTSD] Epoch 1: Loss = 6.9342, Acc = 0.3968\n"
     ]
    },
    {
     "name": "stderr",
     "output_type": "stream",
     "text": [
      " 10%|█         | 2/20 [00:35<05:19, 17.78s/it]"
     ]
    },
    {
     "name": "stdout",
     "output_type": "stream",
     "text": [
      "[MTSD] Epoch 2: Loss = 5.9267, Acc = 0.4067\n"
     ]
    },
    {
     "name": "stderr",
     "output_type": "stream",
     "text": [
      " 15%|█▌        | 3/20 [00:53<05:01, 17.76s/it]"
     ]
    },
    {
     "name": "stdout",
     "output_type": "stream",
     "text": [
      "[MTSD] Epoch 3: Loss = 5.4061, Acc = 0.5000\n"
     ]
    },
    {
     "name": "stderr",
     "output_type": "stream",
     "text": [
      " 20%|██        | 4/20 [01:11<04:44, 17.78s/it]"
     ]
    },
    {
     "name": "stdout",
     "output_type": "stream",
     "text": [
      "[MTSD] Epoch 4: Loss = 4.9431, Acc = 0.4960\n"
     ]
    },
    {
     "name": "stderr",
     "output_type": "stream",
     "text": [
      " 25%|██▌       | 5/20 [01:28<04:26, 17.78s/it]"
     ]
    },
    {
     "name": "stdout",
     "output_type": "stream",
     "text": [
      "[MTSD] Epoch 5: Loss = 4.6585, Acc = 0.4841\n"
     ]
    },
    {
     "name": "stderr",
     "output_type": "stream",
     "text": [
      " 30%|███       | 6/20 [01:46<04:08, 17.75s/it]"
     ]
    },
    {
     "name": "stdout",
     "output_type": "stream",
     "text": [
      "[MTSD] Epoch 6: Loss = 4.5651, Acc = 0.4742\n"
     ]
    },
    {
     "name": "stderr",
     "output_type": "stream",
     "text": [
      " 35%|███▌      | 7/20 [02:04<03:50, 17.76s/it]"
     ]
    },
    {
     "name": "stdout",
     "output_type": "stream",
     "text": [
      "[MTSD] Epoch 7: Loss = 4.3749, Acc = 0.4643\n"
     ]
    },
    {
     "name": "stderr",
     "output_type": "stream",
     "text": [
      " 40%|████      | 8/20 [02:22<03:32, 17.73s/it]"
     ]
    },
    {
     "name": "stdout",
     "output_type": "stream",
     "text": [
      "[MTSD] Epoch 8: Loss = 4.3360, Acc = 0.4921\n"
     ]
    },
    {
     "name": "stderr",
     "output_type": "stream",
     "text": [
      " 45%|████▌     | 9/20 [02:39<03:15, 17.74s/it]"
     ]
    },
    {
     "name": "stdout",
     "output_type": "stream",
     "text": [
      "[MTSD] Epoch 9: Loss = 4.2134, Acc = 0.4921\n"
     ]
    },
    {
     "name": "stderr",
     "output_type": "stream",
     "text": [
      " 50%|█████     | 10/20 [02:57<02:57, 17.76s/it]"
     ]
    },
    {
     "name": "stdout",
     "output_type": "stream",
     "text": [
      "[MTSD] Epoch 10: Loss = 4.0029, Acc = 0.4782\n"
     ]
    },
    {
     "name": "stderr",
     "output_type": "stream",
     "text": [
      " 55%|█████▌    | 11/20 [03:15<02:39, 17.74s/it]"
     ]
    },
    {
     "name": "stdout",
     "output_type": "stream",
     "text": [
      "[MTSD] Epoch 11: Loss = 3.6526, Acc = 0.5139\n"
     ]
    },
    {
     "name": "stderr",
     "output_type": "stream",
     "text": [
      " 60%|██████    | 12/20 [03:33<02:21, 17.75s/it]"
     ]
    },
    {
     "name": "stdout",
     "output_type": "stream",
     "text": [
      "[MTSD] Epoch 12: Loss = 3.4226, Acc = 0.5317\n"
     ]
    },
    {
     "name": "stderr",
     "output_type": "stream",
     "text": [
      " 65%|██████▌   | 13/20 [03:50<02:04, 17.74s/it]"
     ]
    },
    {
     "name": "stdout",
     "output_type": "stream",
     "text": [
      "[MTSD] Epoch 13: Loss = 3.4544, Acc = 0.5198\n"
     ]
    },
    {
     "name": "stderr",
     "output_type": "stream",
     "text": [
      " 70%|███████   | 14/20 [04:08<01:46, 17.74s/it]"
     ]
    },
    {
     "name": "stdout",
     "output_type": "stream",
     "text": [
      "[MTSD] Epoch 14: Loss = 3.4261, Acc = 0.5575\n"
     ]
    },
    {
     "name": "stderr",
     "output_type": "stream",
     "text": [
      " 75%|███████▌  | 15/20 [04:26<01:28, 17.76s/it]"
     ]
    },
    {
     "name": "stdout",
     "output_type": "stream",
     "text": [
      "[MTSD] Epoch 15: Loss = 3.4125, Acc = 0.5317\n"
     ]
    },
    {
     "name": "stderr",
     "output_type": "stream",
     "text": [
      " 80%|████████  | 16/20 [04:44<01:11, 17.76s/it]"
     ]
    },
    {
     "name": "stdout",
     "output_type": "stream",
     "text": [
      "[MTSD] Epoch 16: Loss = 3.3089, Acc = 0.5595\n"
     ]
    },
    {
     "name": "stderr",
     "output_type": "stream",
     "text": [
      " 85%|████████▌ | 17/20 [05:01<00:53, 17.75s/it]"
     ]
    },
    {
     "name": "stdout",
     "output_type": "stream",
     "text": [
      "[MTSD] Epoch 17: Loss = 3.3242, Acc = 0.5417\n"
     ]
    },
    {
     "name": "stderr",
     "output_type": "stream",
     "text": [
      " 90%|█████████ | 18/20 [05:19<00:35, 17.76s/it]"
     ]
    },
    {
     "name": "stdout",
     "output_type": "stream",
     "text": [
      "[MTSD] Epoch 18: Loss = 3.2703, Acc = 0.5258\n"
     ]
    },
    {
     "name": "stderr",
     "output_type": "stream",
     "text": [
      " 95%|█████████▌| 19/20 [05:37<00:17, 17.76s/it]"
     ]
    },
    {
     "name": "stdout",
     "output_type": "stream",
     "text": [
      "[MTSD] Epoch 19: Loss = 3.2189, Acc = 0.5813\n"
     ]
    },
    {
     "name": "stderr",
     "output_type": "stream",
     "text": [
      "100%|██████████| 20/20 [05:55<00:00, 17.75s/it]"
     ]
    },
    {
     "name": "stdout",
     "output_type": "stream",
     "text": [
      "[MTSD] Epoch 20: Loss = 3.2279, Acc = 0.5238\n"
     ]
    },
    {
     "name": "stderr",
     "output_type": "stream",
     "text": [
      "\n"
     ]
    },
    {
     "name": "stdout",
     "output_type": "stream",
     "text": [
      "0.5416666666666666 1557728\n"
     ]
    }
   ],
   "source": [
    "# ----------------------------\n",
    "# Method 3: Multi-Teacher KD (MTSD)\n",
    "# ----------------------------\n",
    "s3 = train(\n",
    "    MultiBranchNet(num_classes=NUM_CLASSES),\n",
    "    train_loader,\n",
    "    val_loader,\n",
    "    device,\n",
    "    qat=False,\n",
    "    num_epochs=20,\n",
    "    method_name=\"MTSD\",\n",
    ")\n",
    "\n",
    "\n",
    "acc3 = evaluate(s3, val_loader, device)\n",
    "size3 = sum(p.numel() for p in s3.parameters())\n",
    "results[\"Multi-Teacher SD\"] = { \"acc\": acc3, \"size\":  size3}\n",
    "print(acc3, size3)"
   ]
  },
  {
   "cell_type": "code",
   "execution_count": 9,
   "id": "5cfee931-74ef-4109-a2f2-441e32797472",
   "metadata": {},
   "outputs": [
    {
     "name": "stderr",
     "output_type": "stream",
     "text": [
      "  5%|▌         | 1/20 [00:17<05:38, 17.81s/it]"
     ]
    },
    {
     "name": "stdout",
     "output_type": "stream",
     "text": [
      "[MTSD] Epoch 1: Loss = 7.5209, Acc = 0.4623\n"
     ]
    },
    {
     "name": "stderr",
     "output_type": "stream",
     "text": [
      " 10%|█         | 2/20 [00:35<05:20, 17.81s/it]"
     ]
    },
    {
     "name": "stdout",
     "output_type": "stream",
     "text": [
      "[MTSD] Epoch 2: Loss = 6.8627, Acc = 0.5377\n"
     ]
    },
    {
     "name": "stderr",
     "output_type": "stream",
     "text": [
      " 15%|█▌        | 3/20 [00:53<05:02, 17.79s/it]"
     ]
    },
    {
     "name": "stdout",
     "output_type": "stream",
     "text": [
      "[MTSD] Epoch 3: Loss = 6.5590, Acc = 0.6151\n"
     ]
    },
    {
     "name": "stderr",
     "output_type": "stream",
     "text": [
      " 20%|██        | 4/20 [01:11<04:44, 17.78s/it]"
     ]
    },
    {
     "name": "stdout",
     "output_type": "stream",
     "text": [
      "[MTSD] Epoch 4: Loss = 6.3412, Acc = 0.5754\n"
     ]
    },
    {
     "name": "stderr",
     "output_type": "stream",
     "text": [
      " 25%|██▌       | 5/20 [01:28<04:26, 17.80s/it]"
     ]
    },
    {
     "name": "stdout",
     "output_type": "stream",
     "text": [
      "[MTSD] Epoch 5: Loss = 6.2308, Acc = 0.6071\n"
     ]
    },
    {
     "name": "stderr",
     "output_type": "stream",
     "text": [
      " 30%|███       | 6/20 [01:46<04:09, 17.79s/it]"
     ]
    },
    {
     "name": "stdout",
     "output_type": "stream",
     "text": [
      "[MTSD] Epoch 6: Loss = 6.0170, Acc = 0.6111\n"
     ]
    },
    {
     "name": "stderr",
     "output_type": "stream",
     "text": [
      " 35%|███▌      | 7/20 [02:04<03:51, 17.80s/it]"
     ]
    },
    {
     "name": "stdout",
     "output_type": "stream",
     "text": [
      "[MTSD] Epoch 7: Loss = 5.9301, Acc = 0.5873\n"
     ]
    },
    {
     "name": "stderr",
     "output_type": "stream",
     "text": [
      " 40%|████      | 8/20 [02:22<03:33, 17.82s/it]"
     ]
    },
    {
     "name": "stdout",
     "output_type": "stream",
     "text": [
      "[MTSD] Epoch 8: Loss = 5.7742, Acc = 0.6111\n"
     ]
    },
    {
     "name": "stderr",
     "output_type": "stream",
     "text": [
      " 45%|████▌     | 9/20 [02:40<03:15, 17.79s/it]"
     ]
    },
    {
     "name": "stdout",
     "output_type": "stream",
     "text": [
      "[MTSD] Epoch 9: Loss = 5.6562, Acc = 0.6448\n"
     ]
    },
    {
     "name": "stderr",
     "output_type": "stream",
     "text": [
      " 50%|█████     | 10/20 [02:58<02:58, 17.81s/it]"
     ]
    },
    {
     "name": "stdout",
     "output_type": "stream",
     "text": [
      "[MTSD] Epoch 10: Loss = 5.5403, Acc = 0.6270\n"
     ]
    },
    {
     "name": "stderr",
     "output_type": "stream",
     "text": [
      " 55%|█████▌    | 11/20 [03:15<02:40, 17.81s/it]"
     ]
    },
    {
     "name": "stdout",
     "output_type": "stream",
     "text": [
      "[MTSD] Epoch 11: Loss = 5.2556, Acc = 0.7361\n"
     ]
    },
    {
     "name": "stderr",
     "output_type": "stream",
     "text": [
      " 60%|██████    | 12/20 [03:33<02:22, 17.81s/it]"
     ]
    },
    {
     "name": "stdout",
     "output_type": "stream",
     "text": [
      "[MTSD] Epoch 12: Loss = 5.1800, Acc = 0.7282\n"
     ]
    },
    {
     "name": "stderr",
     "output_type": "stream",
     "text": [
      " 65%|██████▌   | 13/20 [03:51<02:04, 17.81s/it]"
     ]
    },
    {
     "name": "stdout",
     "output_type": "stream",
     "text": [
      "[MTSD] Epoch 13: Loss = 5.1421, Acc = 0.7282\n"
     ]
    },
    {
     "name": "stderr",
     "output_type": "stream",
     "text": [
      " 70%|███████   | 14/20 [04:09<01:46, 17.79s/it]"
     ]
    },
    {
     "name": "stdout",
     "output_type": "stream",
     "text": [
      "[MTSD] Epoch 14: Loss = 5.0294, Acc = 0.7183\n"
     ]
    },
    {
     "name": "stderr",
     "output_type": "stream",
     "text": [
      " 75%|███████▌  | 15/20 [04:27<01:28, 17.80s/it]"
     ]
    },
    {
     "name": "stdout",
     "output_type": "stream",
     "text": [
      "[MTSD] Epoch 15: Loss = 4.9644, Acc = 0.7143\n"
     ]
    },
    {
     "name": "stderr",
     "output_type": "stream",
     "text": [
      " 80%|████████  | 16/20 [04:44<01:11, 17.79s/it]"
     ]
    },
    {
     "name": "stdout",
     "output_type": "stream",
     "text": [
      "[MTSD] Epoch 16: Loss = 5.0518, Acc = 0.7460\n"
     ]
    },
    {
     "name": "stderr",
     "output_type": "stream",
     "text": [
      " 85%|████████▌ | 17/20 [05:02<00:53, 17.79s/it]"
     ]
    },
    {
     "name": "stdout",
     "output_type": "stream",
     "text": [
      "[MTSD] Epoch 17: Loss = 5.0223, Acc = 0.7421\n"
     ]
    },
    {
     "name": "stderr",
     "output_type": "stream",
     "text": [
      " 90%|█████████ | 18/20 [05:20<00:35, 17.79s/it]"
     ]
    },
    {
     "name": "stdout",
     "output_type": "stream",
     "text": [
      "[MTSD] Epoch 18: Loss = 4.8811, Acc = 0.7103\n"
     ]
    },
    {
     "name": "stderr",
     "output_type": "stream",
     "text": [
      " 95%|█████████▌| 19/20 [05:38<00:17, 17.80s/it]"
     ]
    },
    {
     "name": "stdout",
     "output_type": "stream",
     "text": [
      "[MTSD] Epoch 19: Loss = 4.9980, Acc = 0.7599\n"
     ]
    },
    {
     "name": "stderr",
     "output_type": "stream",
     "text": [
      "100%|██████████| 20/20 [05:56<00:00, 17.80s/it]"
     ]
    },
    {
     "name": "stdout",
     "output_type": "stream",
     "text": [
      "[MTSD] Epoch 20: Loss = 4.9467, Acc = 0.7321\n"
     ]
    },
    {
     "name": "stderr",
     "output_type": "stream",
     "text": [
      "\n"
     ]
    },
    {
     "name": "stdout",
     "output_type": "stream",
     "text": [
      "0.75 1557728\n"
     ]
    }
   ],
   "source": [
    "# ----------------------------\n",
    "# Method 4: MTSD + Augmentation\n",
    "# ----------------------------\n",
    "s4 = train(\n",
    "    MultiBranchNet(num_classes=NUM_CLASSES),\n",
    "    train_loader_aug,\n",
    "    val_loader,\n",
    "    device,\n",
    "    qat=False,\n",
    "    num_epochs=20,\n",
    "    method_name=\"MTSD-Aug\",\n",
    ")\n",
    "acc4 = evaluate(s4, val_loader, device)\n",
    "size4 = sum(p.numel() for p in s4.parameters())\n",
    "results[\"MTSD + Aug\"] =  { \"acc\": acc4, \"size\":  size4}\n",
    "print(acc4, size4)"
   ]
  },
  {
   "cell_type": "code",
   "execution_count": 10,
   "id": "d7990664-d438-4329-8b28-e6ceef60fcf3",
   "metadata": {},
   "outputs": [
    {
     "name": "stderr",
     "output_type": "stream",
     "text": [
      "/tmp/ipykernel_3585/1318273963.py:233: DeprecationWarning: torch.ao.quantization is deprecated and will be removed in 2.10. \n",
      "For migrations of users: \n",
      "1. Eager mode quantization (torch.ao.quantization.quantize, torch.ao.quantization.quantize_dynamic), please migrate to use torchao eager mode quantize_ API instead \n",
      "2. FX graph mode quantization (torch.ao.quantization.quantize_fx.prepare_fx,torch.ao.quantization.quantize_fx.convert_fx, please migrate to use torchao pt2e quantization API instead (prepare_pt2e, convert_pt2e) \n",
      "3. pt2e quantization has been migrated to torchao (https://github.com/pytorch/ao/tree/main/torchao/quantization/pt2e) \n",
      "see https://github.com/pytorch/ao/issues/2259 for more details\n",
      "  torch.quantization.prepare_qat(model, inplace=True)\n",
      "/workspace/mykernel/lib/python3.12/site-packages/torch/ao/quantization/observer.py:246: UserWarning: Please use quant_min and quant_max to specify the range for observers.                     reduce_range will be deprecated in a future release of PyTorch.\n",
      "  warnings.warn(\n"
     ]
    },
    {
     "name": "stdout",
     "output_type": "stream",
     "text": [
      "[QAT] Model prepared for Quantization-Aware Training\n"
     ]
    },
    {
     "name": "stderr",
     "output_type": "stream",
     "text": [
      "  5%|▌         | 1/20 [00:19<06:16, 19.80s/it]"
     ]
    },
    {
     "name": "stdout",
     "output_type": "stream",
     "text": [
      "[MTSD-QAT] Epoch 1: Loss = 7.7175, Acc = 0.3413\n"
     ]
    },
    {
     "name": "stderr",
     "output_type": "stream",
     "text": [
      " 10%|█         | 2/20 [00:39<05:55, 19.74s/it]"
     ]
    },
    {
     "name": "stdout",
     "output_type": "stream",
     "text": [
      "[MTSD-QAT] Epoch 2: Loss = 7.0766, Acc = 0.5060\n"
     ]
    },
    {
     "name": "stderr",
     "output_type": "stream",
     "text": [
      " 15%|█▌        | 3/20 [00:59<05:36, 19.77s/it]"
     ]
    },
    {
     "name": "stdout",
     "output_type": "stream",
     "text": [
      "[MTSD-QAT] Epoch 3: Loss = 6.6703, Acc = 0.5655\n"
     ]
    },
    {
     "name": "stderr",
     "output_type": "stream",
     "text": [
      " 20%|██        | 4/20 [01:19<05:16, 19.79s/it]"
     ]
    },
    {
     "name": "stdout",
     "output_type": "stream",
     "text": [
      "[MTSD-QAT] Epoch 4: Loss = 6.5156, Acc = 0.5139\n"
     ]
    },
    {
     "name": "stderr",
     "output_type": "stream",
     "text": [
      " 25%|██▌       | 5/20 [01:38<04:56, 19.78s/it]"
     ]
    },
    {
     "name": "stdout",
     "output_type": "stream",
     "text": [
      "[MTSD-QAT] Epoch 5: Loss = 6.3399, Acc = 0.5119\n"
     ]
    },
    {
     "name": "stderr",
     "output_type": "stream",
     "text": [
      " 30%|███       | 6/20 [01:58<04:36, 19.78s/it]"
     ]
    },
    {
     "name": "stdout",
     "output_type": "stream",
     "text": [
      "[MTSD-QAT] Epoch 6: Loss = 6.2078, Acc = 0.5913\n"
     ]
    },
    {
     "name": "stderr",
     "output_type": "stream",
     "text": [
      " 35%|███▌      | 7/20 [02:18<04:17, 19.78s/it]"
     ]
    },
    {
     "name": "stdout",
     "output_type": "stream",
     "text": [
      "[MTSD-QAT] Epoch 7: Loss = 6.0909, Acc = 0.5357\n"
     ]
    },
    {
     "name": "stderr",
     "output_type": "stream",
     "text": [
      " 40%|████      | 8/20 [02:38<03:57, 19.78s/it]"
     ]
    },
    {
     "name": "stdout",
     "output_type": "stream",
     "text": [
      "[MTSD-QAT] Epoch 8: Loss = 6.0856, Acc = 0.5794\n"
     ]
    },
    {
     "name": "stderr",
     "output_type": "stream",
     "text": [
      " 45%|████▌     | 9/20 [02:58<03:37, 19.78s/it]"
     ]
    },
    {
     "name": "stdout",
     "output_type": "stream",
     "text": [
      "[MTSD-QAT] Epoch 9: Loss = 5.9569, Acc = 0.6210\n"
     ]
    },
    {
     "name": "stderr",
     "output_type": "stream",
     "text": [
      " 50%|█████     | 10/20 [03:17<03:17, 19.77s/it]"
     ]
    },
    {
     "name": "stdout",
     "output_type": "stream",
     "text": [
      "[MTSD-QAT] Epoch 10: Loss = 5.9060, Acc = 0.5794\n"
     ]
    },
    {
     "name": "stderr",
     "output_type": "stream",
     "text": [
      " 55%|█████▌    | 11/20 [03:37<02:57, 19.76s/it]"
     ]
    },
    {
     "name": "stdout",
     "output_type": "stream",
     "text": [
      "[MTSD-QAT] Epoch 11: Loss = 5.6727, Acc = 0.7321\n"
     ]
    },
    {
     "name": "stderr",
     "output_type": "stream",
     "text": [
      " 60%|██████    | 12/20 [03:57<02:38, 19.76s/it]"
     ]
    },
    {
     "name": "stdout",
     "output_type": "stream",
     "text": [
      "[MTSD-QAT] Epoch 12: Loss = 5.4905, Acc = 0.7083\n"
     ]
    },
    {
     "name": "stderr",
     "output_type": "stream",
     "text": [
      " 65%|██████▌   | 13/20 [04:16<02:18, 19.74s/it]"
     ]
    },
    {
     "name": "stdout",
     "output_type": "stream",
     "text": [
      "[MTSD-QAT] Epoch 13: Loss = 5.4177, Acc = 0.7222\n"
     ]
    },
    {
     "name": "stderr",
     "output_type": "stream",
     "text": [
      " 70%|███████   | 14/20 [04:36<01:58, 19.76s/it]"
     ]
    },
    {
     "name": "stdout",
     "output_type": "stream",
     "text": [
      "[MTSD-QAT] Epoch 14: Loss = 5.4095, Acc = 0.7163\n"
     ]
    },
    {
     "name": "stderr",
     "output_type": "stream",
     "text": [
      " 75%|███████▌  | 15/20 [04:56<01:38, 19.77s/it]"
     ]
    },
    {
     "name": "stdout",
     "output_type": "stream",
     "text": [
      "[MTSD-QAT] Epoch 15: Loss = 5.4595, Acc = 0.7321\n"
     ]
    },
    {
     "name": "stderr",
     "output_type": "stream",
     "text": [
      " 80%|████████  | 16/20 [05:16<01:19, 19.78s/it]"
     ]
    },
    {
     "name": "stdout",
     "output_type": "stream",
     "text": [
      "[MTSD-QAT] Epoch 16: Loss = 5.3908, Acc = 0.7282\n"
     ]
    },
    {
     "name": "stderr",
     "output_type": "stream",
     "text": [
      " 85%|████████▌ | 17/20 [05:36<00:59, 19.79s/it]"
     ]
    },
    {
     "name": "stdout",
     "output_type": "stream",
     "text": [
      "[MTSD-QAT] Epoch 17: Loss = 5.4493, Acc = 0.7619\n"
     ]
    },
    {
     "name": "stderr",
     "output_type": "stream",
     "text": [
      " 90%|█████████ | 18/20 [05:55<00:39, 19.79s/it]"
     ]
    },
    {
     "name": "stdout",
     "output_type": "stream",
     "text": [
      "[MTSD-QAT] Epoch 18: Loss = 5.4161, Acc = 0.7520\n"
     ]
    },
    {
     "name": "stderr",
     "output_type": "stream",
     "text": [
      " 95%|█████████▌| 19/20 [06:15<00:19, 19.79s/it]"
     ]
    },
    {
     "name": "stdout",
     "output_type": "stream",
     "text": [
      "[MTSD-QAT] Epoch 19: Loss = 5.3013, Acc = 0.7222\n"
     ]
    },
    {
     "name": "stderr",
     "output_type": "stream",
     "text": [
      "100%|██████████| 20/20 [06:35<00:00, 19.77s/it]"
     ]
    },
    {
     "name": "stdout",
     "output_type": "stream",
     "text": [
      "[MTSD-QAT] Epoch 20: Loss = 5.3844, Acc = 0.7361\n",
      "[QAT] Model converted to quantized version\n"
     ]
    },
    {
     "name": "stderr",
     "output_type": "stream",
     "text": [
      "\n",
      "/tmp/ipykernel_3585/1318273963.py:276: DeprecationWarning: torch.ao.quantization is deprecated and will be removed in 2.10. \n",
      "For migrations of users: \n",
      "1. Eager mode quantization (torch.ao.quantization.quantize, torch.ao.quantization.quantize_dynamic), please migrate to use torchao eager mode quantize_ API instead \n",
      "2. FX graph mode quantization (torch.ao.quantization.quantize_fx.prepare_fx,torch.ao.quantization.quantize_fx.convert_fx, please migrate to use torchao pt2e quantization API instead (prepare_pt2e, convert_pt2e) \n",
      "3. pt2e quantization has been migrated to torchao (https://github.com/pytorch/ao/tree/main/torchao/quantization/pt2e) \n",
      "see https://github.com/pytorch/ao/issues/2259 for more details\n",
      "  torch.quantization.convert(model, inplace=True)\n"
     ]
    },
    {
     "ename": "NameError",
     "evalue": "name 's5' is not defined",
     "output_type": "error",
     "traceback": [
      "\u001b[31m---------------------------------------------------------------------------\u001b[39m",
      "\u001b[31mNameError\u001b[39m                                 Traceback (most recent call last)",
      "\u001b[36mCell\u001b[39m\u001b[36m \u001b[39m\u001b[32mIn[10]\u001b[39m\u001b[32m, line 14\u001b[39m\n\u001b[32m      1\u001b[39m \u001b[38;5;66;03m# ----------------------------\u001b[39;00m\n\u001b[32m      2\u001b[39m \u001b[38;5;66;03m# Method 5: MTSD + Aug + QAT\u001b[39;00m\n\u001b[32m      3\u001b[39m \u001b[38;5;66;03m# ----------------------------\u001b[39;00m\n\u001b[32m      4\u001b[39m s4 = train(\n\u001b[32m      5\u001b[39m     MultiBranchNet(num_classes=NUM_CLASSES),\n\u001b[32m      6\u001b[39m     train_loader_aug,\n\u001b[32m   (...)\u001b[39m\u001b[32m     11\u001b[39m     method_name=\u001b[33m\"\u001b[39m\u001b[33mMTSD-Aug-QAT\u001b[39m\u001b[33m\"\u001b[39m,\n\u001b[32m     12\u001b[39m )\n\u001b[32m---> \u001b[39m\u001b[32m14\u001b[39m acc5 = evaluate(\u001b[43ms5\u001b[49m, val_loader, device)\n\u001b[32m     15\u001b[39m size5 = \u001b[38;5;28msum\u001b[39m(p.numel() \u001b[38;5;28;01mfor\u001b[39;00m p \u001b[38;5;129;01min\u001b[39;00m s5.parameters())\n\u001b[32m     16\u001b[39m results[\u001b[33m\"\u001b[39m\u001b[33mMTSD-Aug-QAT\u001b[39m\u001b[33m\"\u001b[39m] = { \u001b[33m\"\u001b[39m\u001b[33macc\u001b[39m\u001b[33m\"\u001b[39m: acc5, \u001b[33m\"\u001b[39m\u001b[33msize\u001b[39m\u001b[33m\"\u001b[39m:  size5}\n",
      "\u001b[31mNameError\u001b[39m: name 's5' is not defined"
     ]
    }
   ],
   "source": [
    "# ----------------------------\n",
    "# Method 5: MTSD + Aug + QAT\n",
    "# ----------------------------\n",
    "s4 = train(\n",
    "    MultiBranchNet(num_classes=NUM_CLASSES),\n",
    "    train_loader_aug,\n",
    "    val_loader,\n",
    "    device,\n",
    "    qat=True,\n",
    "    num_epochs=20,\n",
    "    method_name=\"MTSD-Aug-QAT\",\n",
    ")\n",
    "\n",
    "acc5 = evaluate(s5, val_loader, device)\n",
    "size5 = sum(p.numel() for p in s5.parameters())\n",
    "results[\"MTSD-Aug-QAT\"] = { \"acc\": acc5, \"size\":  size5}\n",
    "print(acc5, size5)"
   ]
  },
  {
   "cell_type": "code",
   "execution_count": 13,
   "id": "3552677b-d6be-414d-a496-5c9ff74b5372",
   "metadata": {},
   "outputs": [],
   "source": [
    "size5 = sum(p.numel() for p in s5.parameters())\n",
    "results[\"MTSD-Aug-QAT\"] = { \"acc\": 0.7520 , \"size\":  size5}"
   ]
  },
  {
   "cell_type": "code",
   "execution_count": 14,
   "id": "cfe9c3d6-2564-4277-b4bd-7228045757c2",
   "metadata": {},
   "outputs": [
    {
     "data": {
      "text/plain": [
       "{'Normal KD': {'acc': 0.5456349206349206, 'size': 1557728},\n",
       " 'Normal KD with AUG': {'acc': 0.6369047619047619, 'size': 1557728},\n",
       " 'Multi-Teacher SD': {'acc': 0.5416666666666666, 'size': 1557728},\n",
       " 'MTSD + Aug': {'acc': 0.75, 'size': 1557728},\n",
       " 'MTSD-Aug-QAT': {'acc': 0.752, 'size': 1920}}"
      ]
     },
     "execution_count": 14,
     "metadata": {},
     "output_type": "execute_result"
    }
   ],
   "source": [
    "results"
   ]
  }
 ],
 "metadata": {
  "kernelspec": {
   "display_name": "Python (mykernel)",
   "language": "python",
   "name": "mykernel"
  },
  "language_info": {
   "codemirror_mode": {
    "name": "ipython",
    "version": 3
   },
   "file_extension": ".py",
   "mimetype": "text/x-python",
   "name": "python",
   "nbconvert_exporter": "python",
   "pygments_lexer": "ipython3",
   "version": "3.12.11"
  }
 },
 "nbformat": 4,
 "nbformat_minor": 5
}
